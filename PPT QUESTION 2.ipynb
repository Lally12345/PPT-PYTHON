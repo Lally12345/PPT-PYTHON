{
 "cells": [
  {
   "cell_type": "code",
   "execution_count": 1,
   "id": "64fe2677",
   "metadata": {},
   "outputs": [
    {
     "name": "stdout",
     "output_type": "stream",
     "text": [
      "hi the hi go to\n",
      "2\n",
      "write write write all the number from 1 to 100\n",
      "5\n",
      "hello hello hello the number\n",
      "5\n"
     ]
    }
   ],
   "source": [
    "def find_highest_frequency_word_length(string):\n",
    "    words = string.split()\n",
    "    word_frequency = {}\n",
    "    for word in words:\n",
    "        word_frequency[word] = word_frequency.get(word,0) +1\n",
    "    max_value = max(word_frequency.values())\n",
    "    filtered_dict = {key: value for key, value in word_frequency.items() if value == max_value}\n",
    "    \n",
    "    word_list= list(filtered_dict.keys())\n",
    "    max_length = max(len(word) for word in word_list)\n",
    "    \n",
    "    return max_length\n",
    "\n",
    "for i in range(3):\n",
    "    string = input()\n",
    "    print(find_highest_frequency_word_length(string))"
   ]
  },
  {
   "cell_type": "code",
   "execution_count": null,
   "id": "e8cb88f4",
   "metadata": {},
   "outputs": [],
   "source": []
  }
 ],
 "metadata": {
  "kernelspec": {
   "display_name": "Python 3 (ipykernel)",
   "language": "python",
   "name": "python3"
  },
  "language_info": {
   "codemirror_mode": {
    "name": "ipython",
    "version": 3
   },
   "file_extension": ".py",
   "mimetype": "text/x-python",
   "name": "python",
   "nbconvert_exporter": "python",
   "pygments_lexer": "ipython3",
   "version": "3.9.7"
  }
 },
 "nbformat": 4,
 "nbformat_minor": 5
}
