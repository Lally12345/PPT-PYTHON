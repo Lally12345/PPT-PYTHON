{
 "cells": [
  {
   "cell_type": "markdown",
   "id": "e7a742cf",
   "metadata": {},
   "source": [
    "Question 2: -\n",
    "\n",
    "Consider a string to be valid if all characters of the string appear the same number of times. It is also valid if\n",
    "he can remove just one character at the index in the string, and the remaining characters will occur the same\n",
    "number of times. Given a string, determine if it is valid. If so, return YES , otherwise return NO ."
   ]
  },
  {
   "cell_type": "code",
   "execution_count": 1,
   "id": "356c7d72",
   "metadata": {},
   "outputs": [
    {
     "name": "stdout",
     "output_type": "stream",
     "text": [
      "abc\n",
      "YES\n",
      "abcc\n",
      "NO\n",
      "hsgtyu\n",
      "YES\n"
     ]
    }
   ],
   "source": [
    "def valid_str(string):\n",
    "    occurance = []\n",
    "    for i in string:\n",
    "        occurance.append(string.count(i))\n",
    "    if len(set(occurance))  == 1:\n",
    "        return 'YES'\n",
    "    else:\n",
    "        return 'NO'\n",
    "    \n",
    "for i in range(3):\n",
    "    string = input()\n",
    "    result = valid_str(string)\n",
    "    print(result)"
   ]
  }
 ],
 "metadata": {
  "kernelspec": {
   "display_name": "Python 3 (ipykernel)",
   "language": "python",
   "name": "python3"
  },
  "language_info": {
   "codemirror_mode": {
    "name": "ipython",
    "version": 3
   },
   "file_extension": ".py",
   "mimetype": "text/x-python",
   "name": "python",
   "nbconvert_exporter": "python",
   "pygments_lexer": "ipython3",
   "version": "3.9.7"
  }
 },
 "nbformat": 4,
 "nbformat_minor": 5
}
