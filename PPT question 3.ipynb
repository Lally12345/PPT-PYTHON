{
 "cells": [
  {
   "cell_type": "markdown",
   "id": "0af5ce1e",
   "metadata": {},
   "source": [
    "Question 3: -\n",
    "    \n",
    "Write a program, which would download the data from the provided link, and then read the data and convert\n",
    "that into properly structured data and return it in Excel format.\n",
    "Note - Write comments wherever necessary explaining the code written.\n",
    "Link - https://raw.githubusercontent.com/Biuni/PokemonGO-Pokedex/master/pokedex.json"
   ]
  },
  {
   "cell_type": "code",
   "execution_count": 1,
   "id": "b1efed52",
   "metadata": {},
   "outputs": [],
   "source": [
    "import pandas as pd\n",
    "import json\n",
    "import requests\n",
    "import warnings\n",
    "warnings.filterwarnings(\"ignore\")"
   ]
  },
  {
   "cell_type": "code",
   "execution_count": 2,
   "id": "34dae65f",
   "metadata": {},
   "outputs": [
    {
     "data": {
      "text/html": [
       "<div>\n",
       "<style scoped>\n",
       "    .dataframe tbody tr th:only-of-type {\n",
       "        vertical-align: middle;\n",
       "    }\n",
       "\n",
       "    .dataframe tbody tr th {\n",
       "        vertical-align: top;\n",
       "    }\n",
       "\n",
       "    .dataframe thead th {\n",
       "        text-align: right;\n",
       "    }\n",
       "</style>\n",
       "<table border=\"1\" class=\"dataframe\">\n",
       "  <thead>\n",
       "    <tr style=\"text-align: right;\">\n",
       "      <th></th>\n",
       "      <th>pokemon</th>\n",
       "    </tr>\n",
       "  </thead>\n",
       "  <tbody>\n",
       "    <tr>\n",
       "      <th>0</th>\n",
       "      <td>{'id': 1, 'num': '001', 'name': 'Bulbasaur', '...</td>\n",
       "    </tr>\n",
       "    <tr>\n",
       "      <th>1</th>\n",
       "      <td>{'id': 2, 'num': '002', 'name': 'Ivysaur', 'im...</td>\n",
       "    </tr>\n",
       "    <tr>\n",
       "      <th>2</th>\n",
       "      <td>{'id': 3, 'num': '003', 'name': 'Venusaur', 'i...</td>\n",
       "    </tr>\n",
       "    <tr>\n",
       "      <th>3</th>\n",
       "      <td>{'id': 4, 'num': '004', 'name': 'Charmander', ...</td>\n",
       "    </tr>\n",
       "    <tr>\n",
       "      <th>4</th>\n",
       "      <td>{'id': 5, 'num': '005', 'name': 'Charmeleon', ...</td>\n",
       "    </tr>\n",
       "    <tr>\n",
       "      <th>...</th>\n",
       "      <td>...</td>\n",
       "    </tr>\n",
       "    <tr>\n",
       "      <th>146</th>\n",
       "      <td>{'id': 147, 'num': '147', 'name': 'Dratini', '...</td>\n",
       "    </tr>\n",
       "    <tr>\n",
       "      <th>147</th>\n",
       "      <td>{'id': 148, 'num': '148', 'name': 'Dragonair',...</td>\n",
       "    </tr>\n",
       "    <tr>\n",
       "      <th>148</th>\n",
       "      <td>{'id': 149, 'num': '149', 'name': 'Dragonite',...</td>\n",
       "    </tr>\n",
       "    <tr>\n",
       "      <th>149</th>\n",
       "      <td>{'id': 150, 'num': '150', 'name': 'Mewtwo', 'i...</td>\n",
       "    </tr>\n",
       "    <tr>\n",
       "      <th>150</th>\n",
       "      <td>{'id': 151, 'num': '151', 'name': 'Mew', 'img'...</td>\n",
       "    </tr>\n",
       "  </tbody>\n",
       "</table>\n",
       "<p>151 rows × 1 columns</p>\n",
       "</div>"
      ],
      "text/plain": [
       "                                               pokemon\n",
       "0    {'id': 1, 'num': '001', 'name': 'Bulbasaur', '...\n",
       "1    {'id': 2, 'num': '002', 'name': 'Ivysaur', 'im...\n",
       "2    {'id': 3, 'num': '003', 'name': 'Venusaur', 'i...\n",
       "3    {'id': 4, 'num': '004', 'name': 'Charmander', ...\n",
       "4    {'id': 5, 'num': '005', 'name': 'Charmeleon', ...\n",
       "..                                                 ...\n",
       "146  {'id': 147, 'num': '147', 'name': 'Dratini', '...\n",
       "147  {'id': 148, 'num': '148', 'name': 'Dragonair',...\n",
       "148  {'id': 149, 'num': '149', 'name': 'Dragonite',...\n",
       "149  {'id': 150, 'num': '150', 'name': 'Mewtwo', 'i...\n",
       "150  {'id': 151, 'num': '151', 'name': 'Mew', 'img'...\n",
       "\n",
       "[151 rows x 1 columns]"
      ]
     },
     "execution_count": 2,
     "metadata": {},
     "output_type": "execute_result"
    }
   ],
   "source": [
    "pd.read_json(\"https://raw.githubusercontent.com/Biuni/PokemonGO-Pokedex/master/pokedex.json\")"
   ]
  },
  {
   "cell_type": "code",
   "execution_count": 4,
   "id": "6746917b",
   "metadata": {},
   "outputs": [],
   "source": [
    "url = \"https://raw.githubusercontent.com/Biuni/PokemonGO-Pokedex/master/pokedex.json\"\n",
    "response = requests.get(url)\n",
    "data = response.json()\n",
    "\n",
    "#convert json to data frame\n",
    "df = pd.DataFrame(data[\"pokemon\"])\n",
    "#convert dataframe to excel file\n",
    "df.to_excel('pokemon_Pokedex.xlsx', index=False)"
   ]
  },
  {
   "cell_type": "code",
   "execution_count": 5,
   "id": "9ec6397e",
   "metadata": {},
   "outputs": [],
   "source": [
    "data = pd.read_json(\"https://raw.githubusercontent.com/Biuni/PokemonGO-Pokedex/master/pokedex.json\")"
   ]
  },
  {
   "cell_type": "code",
   "execution_count": 6,
   "id": "c82b2621",
   "metadata": {},
   "outputs": [],
   "source": [
    "df =  pd.DataFrame(data[\"pokemon\"])"
   ]
  },
  {
   "cell_type": "code",
   "execution_count": 7,
   "id": "e148644e",
   "metadata": {},
   "outputs": [
    {
     "data": {
      "text/html": [
       "<div>\n",
       "<style scoped>\n",
       "    .dataframe tbody tr th:only-of-type {\n",
       "        vertical-align: middle;\n",
       "    }\n",
       "\n",
       "    .dataframe tbody tr th {\n",
       "        vertical-align: top;\n",
       "    }\n",
       "\n",
       "    .dataframe thead th {\n",
       "        text-align: right;\n",
       "    }\n",
       "</style>\n",
       "<table border=\"1\" class=\"dataframe\">\n",
       "  <thead>\n",
       "    <tr style=\"text-align: right;\">\n",
       "      <th></th>\n",
       "      <th>pokemon</th>\n",
       "    </tr>\n",
       "  </thead>\n",
       "  <tbody>\n",
       "    <tr>\n",
       "      <th>0</th>\n",
       "      <td>{'id': 1, 'num': '001', 'name': 'Bulbasaur', '...</td>\n",
       "    </tr>\n",
       "    <tr>\n",
       "      <th>1</th>\n",
       "      <td>{'id': 2, 'num': '002', 'name': 'Ivysaur', 'im...</td>\n",
       "    </tr>\n",
       "    <tr>\n",
       "      <th>2</th>\n",
       "      <td>{'id': 3, 'num': '003', 'name': 'Venusaur', 'i...</td>\n",
       "    </tr>\n",
       "    <tr>\n",
       "      <th>3</th>\n",
       "      <td>{'id': 4, 'num': '004', 'name': 'Charmander', ...</td>\n",
       "    </tr>\n",
       "    <tr>\n",
       "      <th>4</th>\n",
       "      <td>{'id': 5, 'num': '005', 'name': 'Charmeleon', ...</td>\n",
       "    </tr>\n",
       "    <tr>\n",
       "      <th>...</th>\n",
       "      <td>...</td>\n",
       "    </tr>\n",
       "    <tr>\n",
       "      <th>146</th>\n",
       "      <td>{'id': 147, 'num': '147', 'name': 'Dratini', '...</td>\n",
       "    </tr>\n",
       "    <tr>\n",
       "      <th>147</th>\n",
       "      <td>{'id': 148, 'num': '148', 'name': 'Dragonair',...</td>\n",
       "    </tr>\n",
       "    <tr>\n",
       "      <th>148</th>\n",
       "      <td>{'id': 149, 'num': '149', 'name': 'Dragonite',...</td>\n",
       "    </tr>\n",
       "    <tr>\n",
       "      <th>149</th>\n",
       "      <td>{'id': 150, 'num': '150', 'name': 'Mewtwo', 'i...</td>\n",
       "    </tr>\n",
       "    <tr>\n",
       "      <th>150</th>\n",
       "      <td>{'id': 151, 'num': '151', 'name': 'Mew', 'img'...</td>\n",
       "    </tr>\n",
       "  </tbody>\n",
       "</table>\n",
       "<p>151 rows × 1 columns</p>\n",
       "</div>"
      ],
      "text/plain": [
       "                                               pokemon\n",
       "0    {'id': 1, 'num': '001', 'name': 'Bulbasaur', '...\n",
       "1    {'id': 2, 'num': '002', 'name': 'Ivysaur', 'im...\n",
       "2    {'id': 3, 'num': '003', 'name': 'Venusaur', 'i...\n",
       "3    {'id': 4, 'num': '004', 'name': 'Charmander', ...\n",
       "4    {'id': 5, 'num': '005', 'name': 'Charmeleon', ...\n",
       "..                                                 ...\n",
       "146  {'id': 147, 'num': '147', 'name': 'Dratini', '...\n",
       "147  {'id': 148, 'num': '148', 'name': 'Dragonair',...\n",
       "148  {'id': 149, 'num': '149', 'name': 'Dragonite',...\n",
       "149  {'id': 150, 'num': '150', 'name': 'Mewtwo', 'i...\n",
       "150  {'id': 151, 'num': '151', 'name': 'Mew', 'img'...\n",
       "\n",
       "[151 rows x 1 columns]"
      ]
     },
     "execution_count": 7,
     "metadata": {},
     "output_type": "execute_result"
    }
   ],
   "source": [
    "df"
   ]
  },
  {
   "cell_type": "code",
   "execution_count": null,
   "id": "9e7e52de",
   "metadata": {},
   "outputs": [],
   "source": []
  }
 ],
 "metadata": {
  "kernelspec": {
   "display_name": "Python 3 (ipykernel)",
   "language": "python",
   "name": "python3"
  },
  "language_info": {
   "codemirror_mode": {
    "name": "ipython",
    "version": 3
   },
   "file_extension": ".py",
   "mimetype": "text/x-python",
   "name": "python",
   "nbconvert_exporter": "python",
   "pygments_lexer": "ipython3",
   "version": "3.9.7"
  }
 },
 "nbformat": 4,
 "nbformat_minor": 5
}
